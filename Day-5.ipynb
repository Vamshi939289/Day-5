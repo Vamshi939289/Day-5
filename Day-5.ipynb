{
 "cells": [
  {
   "cell_type": "code",
   "execution_count": 2,
   "id": "9757e2f8",
   "metadata": {},
   "outputs": [
    {
     "name": "stdout",
     "output_type": "stream",
     "text": [
      "Enter a text: Enter a text: Hello world! Hello Python world.\n",
      "enter: 1\n",
      "a: 1\n",
      "text: 1\n",
      "hello: 2\n",
      "world: 2\n",
      "python: 1\n"
     ]
    }
   ],
   "source": [
    "def word_frequency(text):\n",
    "    \"\"\"Calculate the frequency of each word in the given text.\"\"\"\n",
    "    \n",
    "    import string\n",
    "    text = text.lower().translate(str.maketrans(\"\", \"\", string.punctuation))\n",
    "    \n",
    "    words = text.split()\n",
    "    \n",
    "    word_counts = {}\n",
    "    for word in words:\n",
    "        word_counts[word] = word_counts.get(word, 0) + 1\n",
    "    \n",
    "    for word, count in word_counts.items():\n",
    "        print(f\"{word}: {count}\")\n",
    "        \n",
    "text_input = input(\"Enter a text: \")\n",
    "word_frequency(text_input)\n"
   ]
  },
  {
   "cell_type": "code",
   "execution_count": null,
   "id": "d90e9f38",
   "metadata": {},
   "outputs": [],
   "source": []
  }
 ],
 "metadata": {
  "kernelspec": {
   "display_name": "Python 3 (ipykernel)",
   "language": "python",
   "name": "python3"
  },
  "language_info": {
   "codemirror_mode": {
    "name": "ipython",
    "version": 3
   },
   "file_extension": ".py",
   "mimetype": "text/x-python",
   "name": "python",
   "nbconvert_exporter": "python",
   "pygments_lexer": "ipython3",
   "version": "3.11.4"
  }
 },
 "nbformat": 4,
 "nbformat_minor": 5
}
